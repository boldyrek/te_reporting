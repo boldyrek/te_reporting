{
 "cells": [
  {
   "cell_type": "code",
   "execution_count": 25,
   "metadata": {},
   "outputs": [
    {
     "data": {
      "text/plain": [
       "'\\nValue\\nNumber of train ids\\t\\nNumber of test ids\\t\\nNumber of common between train and test\\t\\nPseudo-code\\n1. load\\n    imputed_train\\n    imputed_predict\\n2. calculate number of\\n    party_id in imputed_train\\n    party_ids in predict train\\n3. Calculate common party ids\\n\\n\\tValue\\nNumber of train ids\\t\\nNumber of test ids\\t\\nNumber of common between train and test\\t\\n'"
      ]
     },
     "execution_count": 25,
     "metadata": {},
     "output_type": "execute_result"
    }
   ],
   "source": [
    "\"\"\"\n",
    "Value\n",
    "Number of train ids\t\n",
    "Number of test ids\t\n",
    "Number of common between train and test\t\n",
    "Pseudo-code\n",
    "1. load\n",
    "    imputed_train\n",
    "    imputed_predict\n",
    "2. calculate number of\n",
    "    party_id in imputed_train\n",
    "    party_ids in predict train\n",
    "3. Calculate common party ids\n",
    "\n",
    "\tValue\n",
    "Number of train ids\t\n",
    "Number of test ids\t\n",
    "Number of common between train and test\t\n",
    "\"\"\""
   ]
  },
  {
   "cell_type": "code",
   "execution_count": 26,
   "metadata": {},
   "outputs": [],
   "source": [
    "import sys\n",
    "sys.path.append(\"/home/boldyrek/mysoft/te/te_reporting/\")\n",
    "from helper_functions import get_imputed_df, start_spark_session, load_df\n",
    "from col_stats import *\n",
    "import config as cfg\n",
    "from helper_functions import *\n"
   ]
  },
  {
   "cell_type": "code",
   "execution_count": 27,
   "metadata": {},
   "outputs": [],
   "source": [
    "split_train = load_df( cfg.SPLIT_TRAIN_PATH )\n",
    "split_predict= load_df( cfg.SPLIT_PRED_PATH )"
   ]
  },
  {
   "cell_type": "code",
   "execution_count": 28,
   "metadata": {},
   "outputs": [],
   "source": [
    "num_of_train_ids = split_train.select('party_id').distinct().count()"
   ]
  },
  {
   "cell_type": "code",
   "execution_count": 29,
   "metadata": {},
   "outputs": [],
   "source": [
    "num_of_test_ids = split_predict.select('party_id').distinct().count()"
   ]
  },
  {
   "cell_type": "code",
   "execution_count": 30,
   "metadata": {},
   "outputs": [],
   "source": [
    "num_of_common_between_train_and_test = split_train.select('party_id').distinct().join(\n",
    "    split_predict.select('party_id').distinct(),\\\n",
    "    ['party_id'], how='inner').select('party_id').count()"
   ]
  },
  {
   "cell_type": "code",
   "execution_count": 31,
   "metadata": {},
   "outputs": [],
   "source": [
    "output_df = spark.createDataFrame([[num_of_train_ids, \n",
    "                        num_of_test_ids,\n",
    "                        num_of_common_between_train_and_test  ]],\n",
    "                     [\"num_of_train_ids\", \n",
    "                        \"num_of_test_ids\",\n",
    "                        \"num_of_common_between_train_and_test\"]\n",
    "                     )"
   ]
  },
  {
   "cell_type": "code",
   "execution_count": 32,
   "metadata": {},
   "outputs": [],
   "source": [
    "write_to_excel(output_df, \"zone_5_spli_data_leakage_st_10\")"
   ]
  },
  {
   "cell_type": "code",
   "execution_count": null,
   "metadata": {},
   "outputs": [],
   "source": []
  }
 ],
 "metadata": {
  "kernelspec": {
   "display_name": "Python 3",
   "language": "python",
   "name": "python3"
  },
  "language_info": {
   "codemirror_mode": {
    "name": "ipython",
    "version": 3
   },
   "file_extension": ".py",
   "mimetype": "text/x-python",
   "name": "python",
   "nbconvert_exporter": "python",
   "pygments_lexer": "ipython3",
   "version": "3.6.10"
  }
 },
 "nbformat": 4,
 "nbformat_minor": 4
}
