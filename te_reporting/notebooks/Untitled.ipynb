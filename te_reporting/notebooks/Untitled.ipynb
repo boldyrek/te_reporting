{
 "cells": [
  {
   "cell_type": "code",
   "execution_count": 1,
   "metadata": {},
   "outputs": [],
   "source": [
    "\n",
    "from helper_functions import get_imputed_df, start_spark_session, load_df\n",
    "from col_stats import *"
   ]
  },
  {
   "cell_type": "code",
   "execution_count": 2,
   "metadata": {},
   "outputs": [],
   "source": [
    "spark = start_spark_session()"
   ]
  },
  {
   "cell_type": "code",
   "execution_count": 3,
   "metadata": {},
   "outputs": [],
   "source": [
    "#general_preprocessing = load_df('../data/general_preprocessing_2020_06_30_1.csv')\n",
    "general_preprocessing = load_df(\"../data/example.csv\")"
   ]
  },
  {
   "cell_type": "code",
   "execution_count": 4,
   "metadata": {},
   "outputs": [],
   "source": [
    "columns = general_preprocessing.columns\n",
    "columns_summary_stats =[]\n",
    "for col in columns:\n",
    "    summary_stats = general_preprocessing.describe(col)\n",
    "    _, mean, stddev, minimum, maximum = summary_stats.toPandas()[col].tolist()\n",
    "    one_col_df = general_preprocessing.select(col)\n",
    "    median = calc_column_median(one_col_df)\n",
    "    columns_summary_stats.append((col, maximum, minimum, mean, stddev, median))\n",
    "excel_ready_df = spark.createDataFrame( columns_summary_stats,\\\n",
    "                                       ['column', 'max', 'min', 'mean', 'stddev', 'median' ] )\n"
   ]
  },
  {
   "cell_type": "code",
   "execution_count": 5,
   "metadata": {},
   "outputs": [
    {
     "name": "stdout",
     "output_type": "stream",
     "text": [
      "+--------+---+---+------------------+------------------+------+\n",
      "|  column|max|min|              mean|            stddev|median|\n",
      "+--------+---+---+------------------+------------------+------+\n",
      "|  event1|  6|  1|               3.5|1.8708286933869707|   2.0|\n",
      "|  event2| 15| 10|              12.5|1.8708286933869707|  11.0|\n",
      "|party_id|  2|  0|1.3333333333333333| 0.816496580927726|   1.0|\n",
      "|     CTU|  3|  0|               1.5|1.0488088481701516|   1.0|\n",
      "+--------+---+---+------------------+------------------+------+\n",
      "\n"
     ]
    }
   ],
   "source": [
    "excel_ready_df.show()"
   ]
  },
  {
   "cell_type": "code",
   "execution_count": 6,
   "metadata": {},
   "outputs": [
    {
     "ename": "IndentationError",
     "evalue": "unexpected indent (<ipython-input-6-745d1e9ac3dd>, line 23)",
     "output_type": "error",
     "traceback": [
      "\u001b[0;36m  File \u001b[0;32m\"<ipython-input-6-745d1e9ac3dd>\"\u001b[0;36m, line \u001b[0;32m23\u001b[0m\n\u001b[0;31m    return columns_summary_stats\u001b[0m\n\u001b[0m    ^\u001b[0m\n\u001b[0;31mIndentationError\u001b[0m\u001b[0;31m:\u001b[0m unexpected indent\n"
     ]
    }
   ],
   "source": [
    "def get_summary_stats_for_every_column(df):\n",
    "    \"\"\"\n",
    "    Input: Input df, and columns of that dataframe\n",
    "    Calculate summary statistics for every column \n",
    "    Output: \n",
    "    \n",
    "    \"\"\"\n",
    "    columns = df.columns\n",
    "    columns_summary_stats = [] # append tuples to a list, later to create a spark df\n",
    "    for col in columns: # for each column calculate stat values\n",
    "        one_col_df = df.select(col) # select only nesessary colum\n",
    "        maximum = calc_column_max(one_col_df)\n",
    "#         print(maximum)\n",
    "#         raise SystemExit\n",
    "        minimum = calc_column_min(one_col_df)\n",
    "        mean = calc_column_avg(one_col_df)\n",
    "        stddev = calc_column_stddev(one_col_df)\n",
    "        median = calc_column_median(one_col_df)\n",
    "        columns_summary_stats.append((col, maximum, minimum, mean, stddev, median))\n",
    "    excel_ready_df = spark.createDataFrame( columns_summary_stats,\\\n",
    "                                       ['column', 'max', 'min', 'mean', 'stddev', 'median' ] )\n",
    "excel_ready_df.show()\n",
    "#   return columns_summary_stats"
   ]
  },
  {
   "cell_type": "code",
   "execution_count": 7,
   "metadata": {},
   "outputs": [
    {
     "name": "stdout",
     "output_type": "stream",
     "text": [
      "Collecting pyexcel\n",
      "  Downloading pyexcel-0.6.3-py2.py3-none-any.whl (88 kB)\n",
      "\u001b[K     |████████████████████████████████| 88 kB 427 kB/s eta 0:00:01\n",
      "\u001b[?25hCollecting pyexcel-xlsx\n",
      "  Downloading pyexcel_xlsx-0.5.8-py2.py3-none-any.whl (9.6 kB)\n",
      "Collecting pyexcel-io>=0.5.19\n",
      "  Downloading pyexcel_io-0.5.20-py2.py3-none-any.whl (39 kB)\n",
      "Collecting lml>=0.0.4\n",
      "  Downloading lml-0.0.9-py2.py3-none-any.whl (9.9 kB)\n",
      "Collecting texttable>=0.8.2\n",
      "  Downloading texttable-1.6.2-py2.py3-none-any.whl (10 kB)\n",
      "Collecting openpyxl>=2.6.1\n",
      "  Downloading openpyxl-3.0.4-py2.py3-none-any.whl (241 kB)\n",
      "\u001b[K     |████████████████████████████████| 241 kB 677 kB/s eta 0:00:01\n",
      "\u001b[?25hCollecting jdcal\n",
      "  Downloading jdcal-1.4.1-py2.py3-none-any.whl (9.5 kB)\n",
      "Collecting et-xmlfile\n",
      "  Downloading et_xmlfile-1.0.1.tar.gz (8.4 kB)\n",
      "Building wheels for collected packages: et-xmlfile\n",
      "  Building wheel for et-xmlfile (setup.py) ... \u001b[?25ldone\n",
      "\u001b[?25h  Created wheel for et-xmlfile: filename=et_xmlfile-1.0.1-py3-none-any.whl size=8915 sha256=964d086e8865ffcdc0d71473dd8fccd37383f5601fa3217e4e5cca538853f8ee\n",
      "  Stored in directory: /home/boldyrek/.cache/pip/wheels/ef/92/e0/956c00decf3091294b8800d9104f6169a1adacfaafd122ed42\n",
      "Successfully built et-xmlfile\n",
      "Installing collected packages: lml, pyexcel-io, texttable, pyexcel, jdcal, et-xmlfile, openpyxl, pyexcel-xlsx\n",
      "Successfully installed et-xmlfile-1.0.1 jdcal-1.4.1 lml-0.0.9 openpyxl-3.0.4 pyexcel-0.6.3 pyexcel-io-0.5.20 pyexcel-xlsx-0.5.8 texttable-1.6.2\n",
      "Note: you may need to restart the kernel to use updated packages.\n"
     ]
    }
   ],
   "source": [
    "pip install pyexcel pyexcel-xlsx"
   ]
  },
  {
   "cell_type": "code",
   "execution_count": null,
   "metadata": {},
   "outputs": [],
   "source": []
  }
 ],
 "metadata": {
  "kernelspec": {
   "display_name": "Python 3",
   "language": "python",
   "name": "python3"
  },
  "language_info": {
   "codemirror_mode": {
    "name": "ipython",
    "version": 3
   },
   "file_extension": ".py",
   "mimetype": "text/x-python",
   "name": "python",
   "nbconvert_exporter": "python",
   "pygments_lexer": "ipython3",
   "version": "3.6.10"
  }
 },
 "nbformat": 4,
 "nbformat_minor": 4
}
