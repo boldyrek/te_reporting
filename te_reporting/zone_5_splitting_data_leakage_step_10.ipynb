{
 "cells": [
  {
   "cell_type": "code",
   "execution_count": 3,
   "metadata": {},
   "outputs": [
    {
     "data": {
      "text/plain": [
       "'\\nValue\\nNumber of train ids\\t\\nNumber of test ids\\t\\nNumber of common between train and test\\t\\n'"
      ]
     },
     "execution_count": 3,
     "metadata": {},
     "output_type": "execute_result"
    }
   ],
   "source": [
    "\"\"\"\n",
    "Value\n",
    "Number of train ids\t\n",
    "Number of test ids\t\n",
    "Number of common between train and test\t\n",
    "Pseudo-code\n",
    "1. load\n",
    "    imputed_train\n",
    "    imputed_predict\n",
    "2. calculate number of\n",
    "    party_id in imputed_train\n",
    "    party_ids in predict train\n",
    "3. \n",
    "\"\"\""
   ]
  },
  {
   "cell_type": "code",
   "execution_count": 4,
   "metadata": {},
   "outputs": [],
   "source": [
    "\n",
    "import sys\n",
    "sys.path.append(\"/home/boldyrek/mysoft/te/te_reporting/\")\n",
    "from helper_functions import get_imputed_df, start_spark_session, load_df\n",
    "from col_stats import *\n",
    "import config as cfg\n",
    "from helper_functions import *"
   ]
  },
  {
   "cell_type": "code",
   "execution_count": 5,
   "metadata": {},
   "outputs": [],
   "source": [
    "imputed_train = load_df( cfg.IMPUTATION_TRAIN_PATH )\n",
    "imputed_predict = load_df( cfg.IMPUTATION_PREDICT_PATH )"
   ]
  },
  {
   "cell_type": "code",
   "execution_count": 6,
   "metadata": {},
   "outputs": [
    {
     "name": "stdout",
     "output_type": "stream",
     "text": [
      "['Tony', 'Steve', 'Bruce', 'Peter']\n"
     ]
    }
   ],
   "source": [
    "\\"
   ]
  },
  {
   "cell_type": "code",
   "execution_count": null,
   "metadata": {},
   "outputs": [],
   "source": []
  }
 ],
 "metadata": {
  "kernelspec": {
   "display_name": "Python 3",
   "language": "python",
   "name": "python3"
  },
  "language_info": {
   "codemirror_mode": {
    "name": "ipython",
    "version": 3
   },
   "file_extension": ".py",
   "mimetype": "text/x-python",
   "name": "python",
   "nbconvert_exporter": "python",
   "pygments_lexer": "ipython3",
   "version": "3.6.10"
  }
 },
 "nbformat": 4,
 "nbformat_minor": 4
}
