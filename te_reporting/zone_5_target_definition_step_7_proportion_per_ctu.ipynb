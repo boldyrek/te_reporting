{
 "cells": [
  {
   "cell_type": "code",
   "execution_count": 1,
   "metadata": {},
   "outputs": [
    {
     "data": {
      "text/plain": [
       "'\\nZone 5, step 7, target defintion \\nProportion of customers with at least one positive target\\n'"
      ]
     },
     "execution_count": 1,
     "metadata": {},
     "output_type": "execute_result"
    }
   ],
   "source": [
    "\"\"\"\n",
    "Zone 5, step 7, target defintion \n",
    "Proportion of customers with at least one positive target\n",
    "\"\"\"\n"
   ]
  },
  {
   "cell_type": "code",
   "execution_count": 2,
   "metadata": {},
   "outputs": [],
   "source": [
    "from helper_functions import start_spark_session, get_imputed_df, suffix_and_join_dfs\n",
    "from col_stats import *\n",
    "from pyspark.sql.functions import col, round,  countDistinct"
   ]
  },
  {
   "cell_type": "code",
   "execution_count": 3,
   "metadata": {},
   "outputs": [],
   "source": [
    "spark = start_spark_session()"
   ]
  },
  {
   "cell_type": "code",
   "execution_count": 4,
   "metadata": {},
   "outputs": [],
   "source": [
    "def main(imputed_df, spark):\n",
    "    \n",
    "    per_ctu_count_partyids_with_positive_interactions = imputed_df.where(\"te_2month = 1\").\\\n",
    "        groupBy('CTU').agg(countDistinct('party_id'))\n",
    "\n",
    "    per_ctu_count_partyids_with_all_interactions = imputed_df.\\\n",
    "        groupBy('CTU').agg(countDistinct('party_id'))\n",
    "\n",
    "    \n",
    "    joined_df = suffix_and_join_dfs( per_ctu_count_partyids_with_positive_interactions,\n",
    "                                   per_ctu_count_partyids_with_all_interactions, 'CTU')\n",
    "\n",
    "    proportion_of_positives = calculate_proportion_of_partyids_of_positives_per_ctu (joined_df )\n",
    "    proportion_of_positives.show()\n",
    "    ctus_all = list(imputed_df.select('CTU').distinct().collect())\n",
    "    proportion_of_positives_full_table = add_zero_proportions_to_empty_ctus (proportion_of_positives , ctus_all, spark)\n",
    "    return proportion_of_positives_full_table\n",
    "        "
   ]
  },
  {
   "cell_type": "code",
   "execution_count": 5,
   "metadata": {},
   "outputs": [],
   "source": [
    "def calculate_proportion_of_partyids_of_positives_per_ctu( joined_df ):\n",
    "        proportion_of_positives = joined_df.withColumn(\"proportion_with_positive_target\", \n",
    "                                     round(col('count(party_id)')/ \n",
    "                                           col('count(party_id)_2'),2))\\\n",
    "                                    .select('CTU',\"proportion_with_positive_target\")\n",
    "        \n",
    "        return proportion_of_positives\n",
    "    \n",
    "def add_zero_proportions_to_empty_ctus (proportion_of_positives , ctus_all, spark) :\n",
    "   \n",
    "    for ctu in sorted(ctus_all):\n",
    "        ctu_query = \"ctu == {0}\".format(ctu[0])\n",
    "        ctu_value  = proportion_of_positives.where(ctu_query).select('CTU').collect()\n",
    "        if len(ctu_value) ==0:\n",
    "            new_df = spark.createDataFrame([[ctu[0],0]] , ['CTU','proportion_with_positive_target'])\n",
    "            proportion_of_positives = proportion_of_positives.union(new_df)\n",
    "    return proportion_of_positives\n",
    "\n",
    "\n",
    "\n",
    "def test_main_function(spark): \n",
    "    \"\"\"\n",
    "    \"\"\"\n",
    "\n",
    "    imputed_df = spark.createDataFrame([(1,1,0),(1,1,1),(1,1,1),\n",
    "                                        (2,1,1),(2,2,0),\n",
    "                                            (3,1,1),(3,2,0),\n",
    "                                         (3,3,1),(3,3,0),\n",
    "                                        (4,3,0),(4,3,0)\n",
    "                                                  ], ['party_id', 'ctu', 'te_2month'])\n",
    "    proportion_of_positives_full_table = main(imputed_df, spark)\n",
    "    proportion_of_positives_full_table.show()\n",
    "    return proportion_of_positives"
   ]
  },
  {
   "cell_type": "code",
   "execution_count": 6,
   "metadata": {},
   "outputs": [
    {
     "name": "stdout",
     "output_type": "stream",
     "text": [
      "+----+-------------------------------+\n",
      "| CTU|proportion_with_positive_target|\n",
      "+----+-------------------------------+\n",
      "| 1.0|                           0.48|\n",
      "|15.0|                           0.47|\n",
      "| 0.0|                           0.48|\n",
      "| 9.0|                           0.49|\n",
      "|12.0|                           0.48|\n",
      "|10.0|                           0.46|\n",
      "|14.0|                           0.49|\n",
      "| 5.0|                           0.49|\n",
      "| 6.0|                           0.48|\n",
      "| 4.0|                           0.49|\n",
      "| 7.0|                            0.5|\n",
      "|11.0|                           0.46|\n",
      "| 2.0|                           0.48|\n",
      "| 8.0|                           0.49|\n",
      "| 3.0|                            0.5|\n",
      "|13.0|                            0.5|\n",
      "+----+-------------------------------+\n",
      "\n",
      "+----+-------------------------------+\n",
      "| CTU|proportion_with_positive_target|\n",
      "+----+-------------------------------+\n",
      "| 1.0|                           0.48|\n",
      "|15.0|                           0.47|\n",
      "| 0.0|                           0.48|\n",
      "| 9.0|                           0.49|\n",
      "|12.0|                           0.48|\n",
      "|10.0|                           0.46|\n",
      "|14.0|                           0.49|\n",
      "| 5.0|                           0.49|\n",
      "| 6.0|                           0.48|\n",
      "| 4.0|                           0.49|\n",
      "| 7.0|                            0.5|\n",
      "|11.0|                           0.46|\n",
      "| 2.0|                           0.48|\n",
      "| 8.0|                           0.49|\n",
      "| 3.0|                            0.5|\n",
      "|13.0|                            0.5|\n",
      "+----+-------------------------------+\n",
      "\n"
     ]
    }
   ],
   "source": [
    "\n",
    "imputed_df = get_imputed_df()\n",
    "proportion_of_positives  = main(imputed_df, spark)\n",
    "proportion_of_positives.show()"
   ]
  },
  {
   "cell_type": "code",
   "execution_count": 7,
   "metadata": {},
   "outputs": [
    {
     "name": "stdout",
     "output_type": "stream",
     "text": [
      "+---+-------------------------------+\n",
      "|CTU|proportion_with_positive_target|\n",
      "+---+-------------------------------+\n",
      "|  1|                            1.0|\n",
      "|  3|                            0.5|\n",
      "+---+-------------------------------+\n",
      "\n",
      "+---+-------------------------------+\n",
      "|CTU|proportion_with_positive_target|\n",
      "+---+-------------------------------+\n",
      "|  1|                            1.0|\n",
      "|  3|                            0.5|\n",
      "|  2|                            0.0|\n",
      "+---+-------------------------------+\n",
      "\n"
     ]
    },
    {
     "data": {
      "text/plain": [
       "DataFrame[CTU: string, proportion_with_positive_target: double]"
      ]
     },
     "execution_count": 7,
     "metadata": {},
     "output_type": "execute_result"
    }
   ],
   "source": [
    "test_main_function(spark)"
   ]
  },
  {
   "cell_type": "code",
   "execution_count": null,
   "metadata": {},
   "outputs": [],
   "source": []
  }
 ],
 "metadata": {
  "kernelspec": {
   "display_name": "Python 3",
   "language": "python",
   "name": "python3"
  },
  "language_info": {
   "codemirror_mode": {
    "name": "ipython",
    "version": 3
   },
   "file_extension": ".py",
   "mimetype": "text/x-python",
   "name": "python",
   "nbconvert_exporter": "python",
   "pygments_lexer": "ipython3",
   "version": "3.6.10"
  }
 },
 "nbformat": 4,
 "nbformat_minor": 4
}
