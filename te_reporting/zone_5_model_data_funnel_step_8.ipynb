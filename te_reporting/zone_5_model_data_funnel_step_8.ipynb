{
 "cells": [
  {
   "cell_type": "code",
   "execution_count": 20,
   "metadata": {},
   "outputs": [],
   "source": [
    "from helper_functions import get_imputed_df, start_spark_session"
   ]
  },
  {
   "cell_type": "code",
   "execution_count": 26,
   "metadata": {},
   "outputs": [],
   "source": [
    "target_column = 'te_2month'\n",
    "imputed_df = get_imputed_df()"
   ]
  },
  {
   "cell_type": "code",
   "execution_count": 40,
   "metadata": {},
   "outputs": [],
   "source": [
    "num_party_ids = imputed_df.select(\"party_id\").distinct().count()"
   ]
  },
  {
   "cell_type": "code",
   "execution_count": 28,
   "metadata": {},
   "outputs": [],
   "source": [
    "spark = start_spark_session()"
   ]
  },
  {
   "cell_type": "code",
   "execution_count": 42,
   "metadata": {},
   "outputs": [],
   "source": [
    "num_rows = imputed_df.count()"
   ]
  },
  {
   "cell_type": "code",
   "execution_count": 38,
   "metadata": {},
   "outputs": [],
   "source": [
    "where_clause = target_column + ' == 1'\n",
    "num_party_ids_with_positive_outcome = imputed_df.where(where_clause).select('party_id').distinct().count()"
   ]
  },
  {
   "cell_type": "code",
   "execution_count": 46,
   "metadata": {},
   "outputs": [
    {
     "name": "stdout",
     "output_type": "stream",
     "text": [
      "+-------------------+--------------+-------------------------------------------+\n",
      "|Number of customers|Number of rows|Number of customers with a positive outcome|\n",
      "+-------------------+--------------+-------------------------------------------+\n",
      "|                999|         81330|                                        990|\n",
      "+-------------------+--------------+-------------------------------------------+\n",
      "\n"
     ]
    }
   ],
   "source": [
    "spark.createDataFrame([[num_party_ids, num_rows, num_party_ids_with_positive_outcome]],\n",
    "                     ['Number of customers', 'Number of rows', \\\n",
    "                      'Number of customers with a positive outcome']\n",
    "                     )"
   ]
  },
  {
   "cell_type": "code",
   "execution_count": 49,
   "metadata": {},
   "outputs": [
    {
     "name": "stdout",
     "output_type": "stream",
     "text": [
      "+--------------------+-----+\n",
      "|                    |Value|\n",
      "+--------------------+-----+\n",
      "| Number of customers|  999|\n",
      "|      Number of rows|81330|\n",
      "|Number of custome...|  990|\n",
      "+--------------------+-----+\n",
      "\n"
     ]
    }
   ],
   "source": [
    "spark.createDataFrame([['Number of customers',num_party_ids],\n",
    "                      ['Number of rows', num_rows],\n",
    "                       ['Number of customers with a positive outcome', num_party_ids_with_positive_outcome]],\n",
    "                     ['', 'Value']\n",
    "                     ).show()"
   ]
  },
  {
   "cell_type": "code",
   "execution_count": null,
   "metadata": {},
   "outputs": [],
   "source": []
  }
 ],
 "metadata": {
  "kernelspec": {
   "display_name": "Python 3",
   "language": "python",
   "name": "python3"
  },
  "language_info": {
   "codemirror_mode": {
    "name": "ipython",
    "version": 3
   },
   "file_extension": ".py",
   "mimetype": "text/x-python",
   "name": "python",
   "nbconvert_exporter": "python",
   "pygments_lexer": "ipython3",
   "version": "3.6.10"
  }
 },
 "nbformat": 4,
 "nbformat_minor": 4
}
